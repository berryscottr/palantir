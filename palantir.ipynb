{
 "cells": [
  {
   "cell_type": "markdown",
   "metadata": {
    "collapsed": true,
    "pycharm": {
     "name": "#%% md\n"
    }
   },
   "source": [
    "## Scott Berry - Palantír Chat-orb"
   ]
  },
  {
   "cell_type": "markdown",
   "source": [
    "Quietly install/upgrade dependencies\n",
    "- Natural Language Toolkit\n",
    "- Scikit-learn"
   ],
   "metadata": {
    "collapsed": false,
    "pycharm": {
     "name": "#%% md\n"
    }
   }
  },
  {
   "cell_type": "code",
   "execution_count": 15,
   "outputs": [],
   "source": [
    "!pip install -q -U nltk\n",
    "!pip install -q -U sklearn"
   ],
   "metadata": {
    "collapsed": false,
    "pycharm": {
     "name": "#%%\n"
    }
   }
  },
  {
   "cell_type": "markdown",
   "source": [
    "Quietly import dependencies to notebook"
   ],
   "metadata": {
    "collapsed": false,
    "pycharm": {
     "name": "#%% md\n"
    }
   }
  },
  {
   "cell_type": "code",
   "execution_count": 16,
   "outputs": [],
   "source": [
    "import nltk\n",
    "from nltk.stem import WordNetLemmatizer\n",
    "nltk.download(\"popular\", quiet=True)\n",
    "from sklearn.feature_extraction.text import TfidfVectorizer\n",
    "from sklearn.metrics.pairwise import cosine_similarity\n",
    "import warnings\n",
    "warnings.filterwarnings(\"ignore\")\n",
    "import random\n",
    "import string"
   ],
   "metadata": {
    "collapsed": false,
    "pycharm": {
     "name": "#%%\n"
    }
   }
  },
  {
   "cell_type": "markdown",
   "source": [
    "Load text of all three Lord of the Rings books into variable `lotr`"
   ],
   "metadata": {
    "collapsed": false,
    "pycharm": {
     "name": "#%% md\n"
    }
   }
  },
  {
   "cell_type": "code",
   "execution_count": 17,
   "outputs": [],
   "source": [
    "f = open(\"lotr.txt\", \"r\", errors=\"ignore\")\n",
    "lotr = f.read().lower()"
   ],
   "metadata": {
    "collapsed": false,
    "pycharm": {
     "name": "#%% \n"
    }
   }
  },
  {
   "cell_type": "markdown",
   "source": [
    "Preprocess book data into tokenized sentences and words\n",
    "Initialize the lemmatizer from NLTK\n",
    "Write lemmatization logic"
   ],
   "metadata": {
    "collapsed": false
   }
  },
  {
   "cell_type": "code",
   "execution_count": 18,
   "outputs": [],
   "source": [
    "sent_tokens = nltk.sent_tokenize(lotr)\n",
    "word_tokens = nltk.word_tokenize(lotr)\n",
    "\n",
    "lemmatizer = WordNetLemmatizer()\n",
    "\n",
    "def lem_tokens(tokens):\n",
    "    return [lemmatizer.lemmatize(token) for token in tokens]\n",
    "\n",
    "remove_punct_dict = dict((ord(punct), None) for punct in string.punctuation)\n",
    "\n",
    "def lem_normalize(text):\n",
    "    return lem_tokens(nltk.word_tokenize(text.lower().translate(remove_punct_dict)))"
   ],
   "metadata": {
    "collapsed": false,
    "pycharm": {
     "name": "#%%\n"
    }
   }
  },
  {
   "cell_type": "markdown",
   "source": [
    "Write chatbot response logic\n",
    "User input is temporarily added to the database so that the model can perform the following operations to return a relevant phrase\n",
    "1. Bag of Words\n",
    "2. TF-IDF Vectorizer\n",
    "3. Cosine Similarity"
   ],
   "metadata": {
    "collapsed": false
   }
  },
  {
   "cell_type": "code",
   "execution_count": 19,
   "outputs": [],
   "source": [
    "def response(user_input):\n",
    "    robot_response=\"\"\n",
    "    sent_tokens.append(user_input)\n",
    "    tfidf_vec = TfidfVectorizer(tokenizer=lem_normalize, stop_words=\"english\")\n",
    "    tfidf = tfidf_vec.fit_transform(sent_tokens)\n",
    "    vals = cosine_similarity(tfidf[-1], tfidf)\n",
    "    idx = vals.argsort()[0][-2]\n",
    "    flat = vals.flatten()\n",
    "    flat.sort()\n",
    "    req_tfidf = flat[-2]\n",
    "    if req_tfidf == 0:\n",
    "        robot_response += \"I'm not as wise as Saruman and as such, could not understand you.\"\n",
    "        return robot_response\n",
    "    else:\n",
    "        robot_response += sent_tokens[idx]\n",
    "        return robot_response"
   ],
   "metadata": {
    "collapsed": false,
    "pycharm": {
     "name": "#%%\n"
    }
   }
  },
  {
   "cell_type": "markdown",
   "source": [
    "Set chatbot greetings\n",
    "Chatbot will return a greeting"
   ],
   "metadata": {
    "collapsed": false
   }
  },
  {
   "cell_type": "markdown",
   "source": [],
   "metadata": {
    "collapsed": false
   }
  },
  {
   "cell_type": "code",
   "execution_count": 20,
   "outputs": [],
   "source": [
    "greeting_inputs = [\"hello\", \"hi\", \"hey\"]\n",
    "greeting_response = [\"Good day. Do I mean to wish you a good day, or mean that it is a good day whether I want it or not; or that I feel good this day; or that it is a day to be good on?\"]\n",
    "\n",
    "def greeting(sentence):\n",
    "    for word in sentence.split():\n",
    "        if word.lower() in greeting_inputs:\n",
    "            return random.choice(greeting_response)"
   ],
   "metadata": {
    "collapsed": false,
    "pycharm": {
     "name": "#%%\n"
    }
   }
  },
  {
   "cell_type": "markdown",
   "source": [
    "Chatbot prompts until bye condition filled when the user inputs \"bye\" or \"goodbye\""
   ],
   "metadata": {
    "collapsed": false
   }
  },
  {
   "cell_type": "code",
   "execution_count": 21,
   "outputs": [
    {
     "name": "stdout",
     "output_type": "stream",
     "text": [
      "Palantír: Hello, I'm Palantír, an all-knowing chat-orb of Scott Berry's creation. I am great at discussing his favorite book series The Lord of the Rings. Care to ponder the orb?\n",
      "Pippin: are my friends safe?\n",
      "Palantír: you are not safe yet.\n",
      "Pippin: will i ever make it home?\n",
      "Palantír: dont make yourselves too much at home!\n",
      "Pippin: is sauron looking for me right now?\n",
      "Palantír: sauron gives none.\n",
      "Pippin: do dwarf men and women really look the same?\n",
      "Palantír: you look upon a woman.\n",
      "Pippin: i could go for a lemba bread or four\n",
      "Palantír: the bread is three or four days old, i am afraid.\n",
      "Pippin: i do hope i can read bilbo's tale some time\n",
      "Palantír: i read it in him.\n",
      "Pippin: what do you know of natural language processing?\n",
      "Palantír: a light was upon it for which his language had no name.\n",
      "Pippin: are dwarves natural sprinters or are they just stocky?\n",
      "Palantír: a short race, a sprinters course and he would be through!\n",
      "Pippin: well, the one i know said so anyway.\n",
      "Palantír: i know, he said.\n",
      "Pippin: i enjoy chatting with you, but i must leave.\n",
      "Palantír: you have so much to enjoy and to be, and to do.â€™\n",
      "\n",
      "â€˜but,â€™ said sam, and tears started in his eyes, â€˜i thought you were going to enjoy the shire, too.\n",
      "Pippin: goodbye.\n",
      "Palantír: good-bye!\n",
      "Pippin: bye\n",
      "Palantír: Farewell, and may the blessing of Elves and Men and all Free Folk go with you. May the stars shine upon your faces!\n"
     ]
    }
   ],
   "source": [
    "name = input(\"What is your name?\")\n",
    "\n",
    "print(\"Palantír: Hello, I'm Palantír, an all-knowing chat-orb of Scott Berry's creation. I am great at discussing his favorite book series The Lord of the Rings. Care to ponder the orb?\")\n",
    "while True:\n",
    "    user_response = input(name + \":\").lower()\n",
    "    print(name + \":\", user_response)\n",
    "    if user_response in [\"bye\", \"goodbye\"]:\n",
    "        print(\"Palantír: Farewell, and may the blessing of Elves and Men and all Free Folk go with you. May the stars shine upon your faces!\")\n",
    "        break\n",
    "    else:\n",
    "        if greeting(user_response) is not None:\n",
    "            print(\"Palantír:\", greeting(user_response))\n",
    "        else:\n",
    "            print(\"Palantír:\", response(user_response))\n",
    "            sent_tokens.remove(user_response)"
   ],
   "metadata": {
    "collapsed": false,
    "pycharm": {
     "name": "#%%\n"
    }
   }
  }
 ],
 "metadata": {
  "kernelspec": {
   "display_name": "Python 3",
   "language": "python",
   "name": "python3"
  },
  "language_info": {
   "codemirror_mode": {
    "name": "ipython",
    "version": 2
   },
   "file_extension": ".py",
   "mimetype": "text/x-python",
   "name": "python",
   "nbconvert_exporter": "python",
   "pygments_lexer": "ipython2",
   "version": "2.7.6"
  }
 },
 "nbformat": 4,
 "nbformat_minor": 0
}
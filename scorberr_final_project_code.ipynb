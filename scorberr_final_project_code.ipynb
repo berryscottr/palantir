{
 "cells": [
  {
   "cell_type": "markdown",
   "metadata": {
    "collapsed": true,
    "pycharm": {
     "name": "#%% md\n"
    }
   },
   "source": [
    "## Scott Berry - Final Project Chatbot"
   ]
  },
  {
   "cell_type": "markdown",
   "source": [
    "Install dependencies"
   ],
   "metadata": {
    "collapsed": false,
    "pycharm": {
     "name": "#%% md\n"
    }
   }
  },
  {
   "cell_type": "code",
   "execution_count": 22,
   "outputs": [],
   "source": [
    "!pip install -q -U nltk\n",
    "!pip install -q -U sklearn"
   ],
   "metadata": {
    "collapsed": false,
    "pycharm": {
     "name": "#%%\n"
    }
   }
  },
  {
   "cell_type": "markdown",
   "source": [
    "Import dependencies"
   ],
   "metadata": {
    "collapsed": false,
    "pycharm": {
     "name": "#%% md\n"
    }
   }
  },
  {
   "cell_type": "code",
   "execution_count": 23,
   "outputs": [],
   "source": [
    "import nltk\n",
    "from nltk.stem import WordNetLemmatizer\n",
    "nltk.download(\"popular\", quiet=True)\n",
    "from sklearn.feature_extraction.text import TfidfVectorizer\n",
    "from sklearn.metrics.pairwise import cosine_similarity\n",
    "import random\n",
    "import string"
   ],
   "metadata": {
    "collapsed": false,
    "pycharm": {
     "name": "#%%\n"
    }
   }
  },
  {
   "cell_type": "markdown",
   "source": [
    "Load clinical data into dataframe"
   ],
   "metadata": {
    "collapsed": false,
    "pycharm": {
     "name": "#%% md\n"
    }
   }
  },
  {
   "cell_type": "code",
   "execution_count": 24,
   "outputs": [],
   "source": [
    "f = open(\"lotr.txt\", \"r\", errors=\"ignore\")\n",
    "lotr = f.read().lower()"
   ],
   "metadata": {
    "collapsed": false,
    "pycharm": {
     "name": "#%% \n"
    }
   }
  },
  {
   "cell_type": "markdown",
   "source": [
    "Structure clinical data"
   ],
   "metadata": {
    "collapsed": false
   }
  },
  {
   "cell_type": "code",
   "execution_count": 25,
   "outputs": [],
   "source": [
    "sent_tokens = nltk.sent_tokenize(lotr)\n",
    "word_tokens = nltk.word_tokenize(lotr)\n",
    "\n",
    "lemmer = WordNetLemmatizer()\n",
    "\n",
    "def lem_tokens(tokens):\n",
    "    return [lemmer.lemmatize(token) for token in tokens]\n",
    "\n",
    "remove_punct_dict = dict((ord(punct), None) for punct in string.punctuation)\n",
    "\n",
    "def lem_normalize(text):\n",
    "    return lem_tokens(nltk.word_tokenize(text.lower().translate(remove_punct_dict)))"
   ],
   "metadata": {
    "collapsed": false,
    "pycharm": {
     "name": "#%%\n"
    }
   }
  },
  {
   "cell_type": "markdown",
   "source": [
    "Write chatbot response logic"
   ],
   "metadata": {
    "collapsed": false
   }
  },
  {
   "cell_type": "code",
   "execution_count": 26,
   "outputs": [],
   "source": [
    "def response(user_input):\n",
    "    robot_response=\"\"\n",
    "    sent_tokens.append(user_input)\n",
    "    tfidf_vec = TfidfVectorizer(tokenizer=lem_normalize, stop_words=\"english\")\n",
    "    tfidf = tfidf_vec.fit_transform(sent_tokens)\n",
    "    vals = cosine_similarity(tfidf[-1], tfidf)\n",
    "    idx = vals.argsort()[0][-2]\n",
    "    flat = vals.flatten()\n",
    "    flat.sort()\n",
    "    req_tfidf = flat[-2]\n",
    "    if req_tfidf == 0:\n",
    "        robot_response += \"I'm not as wise as Gandalf or the elves and as such, could not understand you.\"\n",
    "        return robot_response\n",
    "    else:\n",
    "        robot_response += sent_tokens[idx]\n",
    "        return robot_response"
   ],
   "metadata": {
    "collapsed": false,
    "pycharm": {
     "name": "#%%\n"
    }
   }
  },
  {
   "cell_type": "markdown",
   "source": [
    "Set chatbot greetings"
   ],
   "metadata": {
    "collapsed": false
   }
  },
  {
   "cell_type": "markdown",
   "source": [],
   "metadata": {
    "collapsed": false
   }
  },
  {
   "cell_type": "code",
   "execution_count": 27,
   "outputs": [],
   "source": [
    "greeting_inputs = [\"hello\", \"hi\", \"hey\"]\n",
    "greeting_response = [\"Hello, how can I help you today?\"]\n",
    "\n",
    "def greeting(sentence):\n",
    "    for word in sentence.split():\n",
    "        if word.lower() in greeting_inputs:\n",
    "            return random.choice(greeting_response)"
   ],
   "metadata": {
    "collapsed": false,
    "pycharm": {
     "name": "#%%\n"
    }
   }
  },
  {
   "cell_type": "markdown",
   "source": [
    "Chatbot prompts until bye condition filled"
   ],
   "metadata": {
    "collapsed": false
   }
  },
  {
   "cell_type": "code",
   "execution_count": 28,
   "outputs": [
    {
     "name": "stdout",
     "output_type": "stream",
     "text": [
      "Palantír: Hello, I'm Palantír, an all-knowing chat-orb of Scott Berry's creation. I am great at discussing his favorite book series The Lord of the Rings. Care to ponder the orb?\n",
      "Scott: do dwarf men and women look alike?\n",
      "Palantír: you look upon a woman.\n",
      "Scott: and are they really natural sprinters?\n",
      "Palantír: a short race, a sprinters course and he would be through!\n",
      "Scott: are there other seeing stones besides you?\n",
      "Palantír: i would not have you go without seeing kheled-zã¢ram.\n",
      "Scott: is sauron a threat or a myth?\n",
      "Palantír: three times is a threat.\n",
      "Scott: what do you know of the one ring?\n",
      "Palantír: he knows where gollum found his ring.\n",
      "Scott: are the elves wise by nature, or just old?\n",
      "Palantír: so wise they are; so just, so very just.\n",
      "Scott: this was fun, bye\n",
      "Palantír: he says: smã©agol, take me to the gate - and then good bye!\n",
      "Scott: bye\n",
      "Palantír: Farewell, and may the blessing of Elves and Men and all Free Folk go with you. May the stars shine upon your faces!\n"
     ]
    }
   ],
   "source": [
    "name = input(\"Enter your name: \")\n",
    "\n",
    "print(\"Palantír: Hello, I'm Palantír, an all-knowing chat-orb of Scott Berry's creation. I am great at discussing his favorite book series The Lord of the Rings. Care to ponder the orb?\")\n",
    "while True:\n",
    "    user_response = input(name + \":\").lower()\n",
    "    print(name + \":\", user_response)\n",
    "    if user_response in [\"bye\", \"goodbye\"]:\n",
    "        print(\"Palantír: Farewell, and may the blessing of Elves and Men and all Free Folk go with you. May the stars shine upon your faces!\")\n",
    "        break\n",
    "    else:\n",
    "        if greeting(user_response) is not None:\n",
    "            print(\"Palantír:\", greeting(user_response))\n",
    "        else:\n",
    "            print(\"Palantír:\", response(user_response))\n",
    "            sent_tokens.remove(user_response)"
   ],
   "metadata": {
    "collapsed": false,
    "pycharm": {
     "name": "#%%\n"
    }
   }
  }
 ],
 "metadata": {
  "kernelspec": {
   "display_name": "Python 3",
   "language": "python",
   "name": "python3"
  },
  "language_info": {
   "codemirror_mode": {
    "name": "ipython",
    "version": 2
   },
   "file_extension": ".py",
   "mimetype": "text/x-python",
   "name": "python",
   "nbconvert_exporter": "python",
   "pygments_lexer": "ipython2",
   "version": "2.7.6"
  }
 },
 "nbformat": 4,
 "nbformat_minor": 0
}